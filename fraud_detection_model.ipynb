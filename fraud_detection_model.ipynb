{
 "cells": [
  {
   "cell_type": "code",
   "execution_count": 25,
   "id": "97dd0056",
   "metadata": {},
   "outputs": [
    {
     "data": {
      "text/html": [
       "<div>\n",
       "<style scoped>\n",
       "    .dataframe tbody tr th:only-of-type {\n",
       "        vertical-align: middle;\n",
       "    }\n",
       "\n",
       "    .dataframe tbody tr th {\n",
       "        vertical-align: top;\n",
       "    }\n",
       "\n",
       "    .dataframe thead th {\n",
       "        text-align: right;\n",
       "    }\n",
       "</style>\n",
       "<table border=\"1\" class=\"dataframe\">\n",
       "  <thead>\n",
       "    <tr style=\"text-align: right;\">\n",
       "      <th></th>\n",
       "      <th>Customer_ID</th>\n",
       "      <th>Customer_Name</th>\n",
       "      <th>Gender</th>\n",
       "      <th>Age</th>\n",
       "      <th>State</th>\n",
       "      <th>City</th>\n",
       "      <th>Bank_Branch</th>\n",
       "      <th>Account_Type</th>\n",
       "      <th>Transaction_ID</th>\n",
       "      <th>Transaction_Date</th>\n",
       "      <th>...</th>\n",
       "      <th>Merchant_Category</th>\n",
       "      <th>Account_Balance</th>\n",
       "      <th>Transaction_Device</th>\n",
       "      <th>Transaction_Location</th>\n",
       "      <th>Device_Type</th>\n",
       "      <th>Is_Fraud</th>\n",
       "      <th>Transaction_Currency</th>\n",
       "      <th>Customer_Contact</th>\n",
       "      <th>Transaction_Description</th>\n",
       "      <th>Customer_Email</th>\n",
       "    </tr>\n",
       "  </thead>\n",
       "  <tbody>\n",
       "    <tr>\n",
       "      <th>0</th>\n",
       "      <td>d5f6ec07-d69e-4f47-b9b4-7c58ff17c19e</td>\n",
       "      <td>Osha Tella</td>\n",
       "      <td>Male</td>\n",
       "      <td>60</td>\n",
       "      <td>Kerala</td>\n",
       "      <td>Thiruvananthapuram</td>\n",
       "      <td>Thiruvananthapuram Branch</td>\n",
       "      <td>Savings</td>\n",
       "      <td>4fa3208f-9e23-42dc-b330-844829d0c12c</td>\n",
       "      <td>23-01-2025</td>\n",
       "      <td>...</td>\n",
       "      <td>Restaurant</td>\n",
       "      <td>74557.27</td>\n",
       "      <td>Voice Assistant</td>\n",
       "      <td>Thiruvananthapuram, Kerala</td>\n",
       "      <td>POS</td>\n",
       "      <td>0</td>\n",
       "      <td>INR</td>\n",
       "      <td>+9198579XXXXXX</td>\n",
       "      <td>Bitcoin transaction</td>\n",
       "      <td>oshaXXXXX@XXXXX.com</td>\n",
       "    </tr>\n",
       "    <tr>\n",
       "      <th>1</th>\n",
       "      <td>7c14ad51-781a-4db9-b7bd-67439c175262</td>\n",
       "      <td>Hredhaan Khosla</td>\n",
       "      <td>Female</td>\n",
       "      <td>51</td>\n",
       "      <td>Maharashtra</td>\n",
       "      <td>Nashik</td>\n",
       "      <td>Nashik Branch</td>\n",
       "      <td>Business</td>\n",
       "      <td>c9de0c06-2c4c-40a9-97ed-3c7b8f97c79c</td>\n",
       "      <td>11-01-2025</td>\n",
       "      <td>...</td>\n",
       "      <td>Restaurant</td>\n",
       "      <td>74622.66</td>\n",
       "      <td>POS Mobile Device</td>\n",
       "      <td>Nashik, Maharashtra</td>\n",
       "      <td>Desktop</td>\n",
       "      <td>0</td>\n",
       "      <td>INR</td>\n",
       "      <td>+9191074XXXXXX</td>\n",
       "      <td>Grocery delivery</td>\n",
       "      <td>hredhaanXXXX@XXXXXX.com</td>\n",
       "    </tr>\n",
       "    <tr>\n",
       "      <th>2</th>\n",
       "      <td>3a73a0e5-d4da-45aa-85f3-528413900a35</td>\n",
       "      <td>Ekani Nazareth</td>\n",
       "      <td>Male</td>\n",
       "      <td>20</td>\n",
       "      <td>Bihar</td>\n",
       "      <td>Bhagalpur</td>\n",
       "      <td>Bhagalpur Branch</td>\n",
       "      <td>Savings</td>\n",
       "      <td>e41c55f9-c016-4ff3-872b-cae72467c75c</td>\n",
       "      <td>25-01-2025</td>\n",
       "      <td>...</td>\n",
       "      <td>Groceries</td>\n",
       "      <td>66817.99</td>\n",
       "      <td>ATM</td>\n",
       "      <td>Bhagalpur, Bihar</td>\n",
       "      <td>Desktop</td>\n",
       "      <td>0</td>\n",
       "      <td>INR</td>\n",
       "      <td>+9197745XXXXXX</td>\n",
       "      <td>Mutual fund investment</td>\n",
       "      <td>ekaniXXX@XXXXXX.com</td>\n",
       "    </tr>\n",
       "    <tr>\n",
       "      <th>3</th>\n",
       "      <td>7902f4ef-9050-4a79-857d-9c2ea3181940</td>\n",
       "      <td>Yamini Ramachandran</td>\n",
       "      <td>Female</td>\n",
       "      <td>57</td>\n",
       "      <td>Tamil Nadu</td>\n",
       "      <td>Chennai</td>\n",
       "      <td>Chennai Branch</td>\n",
       "      <td>Business</td>\n",
       "      <td>7f7ee11b-ff2c-45a3-802a-49bc47c02ecb</td>\n",
       "      <td>19-01-2025</td>\n",
       "      <td>...</td>\n",
       "      <td>Entertainment</td>\n",
       "      <td>58177.08</td>\n",
       "      <td>POS Mobile App</td>\n",
       "      <td>Chennai, Tamil Nadu</td>\n",
       "      <td>Mobile</td>\n",
       "      <td>0</td>\n",
       "      <td>INR</td>\n",
       "      <td>+9195889XXXXXX</td>\n",
       "      <td>Food delivery</td>\n",
       "      <td>yaminiXXXXX@XXXXXXX.com</td>\n",
       "    </tr>\n",
       "    <tr>\n",
       "      <th>4</th>\n",
       "      <td>3a4bba70-d9a9-4c5f-8b92-1735fd8c19e9</td>\n",
       "      <td>Kritika Rege</td>\n",
       "      <td>Female</td>\n",
       "      <td>43</td>\n",
       "      <td>Punjab</td>\n",
       "      <td>Amritsar</td>\n",
       "      <td>Amritsar Branch</td>\n",
       "      <td>Savings</td>\n",
       "      <td>f8e6ac6f-81a1-4985-bf12-f60967d852ef</td>\n",
       "      <td>30-01-2025</td>\n",
       "      <td>...</td>\n",
       "      <td>Entertainment</td>\n",
       "      <td>16108.56</td>\n",
       "      <td>Virtual Card</td>\n",
       "      <td>Amritsar, Punjab</td>\n",
       "      <td>Mobile</td>\n",
       "      <td>0</td>\n",
       "      <td>INR</td>\n",
       "      <td>+9195316XXXXXX</td>\n",
       "      <td>Debt repayment</td>\n",
       "      <td>kritikaXXXX@XXXXXX.com</td>\n",
       "    </tr>\n",
       "    <tr>\n",
       "      <th>5</th>\n",
       "      <td>6c870d65-76b0-431d-bdf3-9292998e8211</td>\n",
       "      <td>Ishanvi Dar</td>\n",
       "      <td>Male</td>\n",
       "      <td>54</td>\n",
       "      <td>Gujarat</td>\n",
       "      <td>Ahmedabad</td>\n",
       "      <td>Ahmedabad Branch</td>\n",
       "      <td>Checking</td>\n",
       "      <td>af5f667c-d064-4083-bfb7-83396111a3da</td>\n",
       "      <td>25-01-2025</td>\n",
       "      <td>...</td>\n",
       "      <td>Entertainment</td>\n",
       "      <td>61258.85</td>\n",
       "      <td>Mobile Device</td>\n",
       "      <td>Ahmedabad, Gujarat</td>\n",
       "      <td>POS</td>\n",
       "      <td>0</td>\n",
       "      <td>INR</td>\n",
       "      <td>+9198318XXXXXX</td>\n",
       "      <td>Seminar registration</td>\n",
       "      <td>ishanviXXX@XXXXX.com</td>\n",
       "    </tr>\n",
       "    <tr>\n",
       "      <th>6</th>\n",
       "      <td>5323737c-bbd2-423f-9c9b-e0433c8f75dc</td>\n",
       "      <td>Arya Shroff</td>\n",
       "      <td>Female</td>\n",
       "      <td>61</td>\n",
       "      <td>Delhi</td>\n",
       "      <td>New Delhi</td>\n",
       "      <td>New Delhi Branch</td>\n",
       "      <td>Business</td>\n",
       "      <td>b1355810-d246-4aeb-9932-347f32646172</td>\n",
       "      <td>04-01-2025</td>\n",
       "      <td>...</td>\n",
       "      <td>Health</td>\n",
       "      <td>36313.61</td>\n",
       "      <td>Payment Gateway Device</td>\n",
       "      <td>New Delhi, Delhi</td>\n",
       "      <td>Desktop</td>\n",
       "      <td>0</td>\n",
       "      <td>INR</td>\n",
       "      <td>+9194785XXXXXX</td>\n",
       "      <td>Public transport pass</td>\n",
       "      <td>aryaXXX@XXXXX.com</td>\n",
       "    </tr>\n",
       "    <tr>\n",
       "      <th>7</th>\n",
       "      <td>c0c3d474-f6c2-4c66-9b0e-f9ba75c6f310</td>\n",
       "      <td>Jackson Shere</td>\n",
       "      <td>Male</td>\n",
       "      <td>32</td>\n",
       "      <td>Andaman and Nicobar Islands</td>\n",
       "      <td>Port Blair</td>\n",
       "      <td>Port Blair Branch</td>\n",
       "      <td>Business</td>\n",
       "      <td>c86a000c-d81f-40be-acdf-77fc072fd808</td>\n",
       "      <td>16-01-2025</td>\n",
       "      <td>...</td>\n",
       "      <td>Clothing</td>\n",
       "      <td>16948.73</td>\n",
       "      <td>Debit/Credit Card</td>\n",
       "      <td>Port Blair, Andaman and Nicobar Islands</td>\n",
       "      <td>ATM</td>\n",
       "      <td>0</td>\n",
       "      <td>INR</td>\n",
       "      <td>+9193423XXXXXX</td>\n",
       "      <td>Online shopping</td>\n",
       "      <td>jacksonXXX@XXXXXXX.com</td>\n",
       "    </tr>\n",
       "    <tr>\n",
       "      <th>8</th>\n",
       "      <td>e9a82764-1253-4a46-ad34-80e3416fc801</td>\n",
       "      <td>Bhanumati Ravel</td>\n",
       "      <td>Male</td>\n",
       "      <td>52</td>\n",
       "      <td>Madhya Pradesh</td>\n",
       "      <td>Bhopal</td>\n",
       "      <td>Bhopal Branch</td>\n",
       "      <td>Business</td>\n",
       "      <td>323cc683-b0dc-40ee-a519-3b5dc96c7ed8</td>\n",
       "      <td>25-01-2025</td>\n",
       "      <td>...</td>\n",
       "      <td>Clothing</td>\n",
       "      <td>18138.71</td>\n",
       "      <td>ATM</td>\n",
       "      <td>Bhopal, Madhya Pradesh</td>\n",
       "      <td>Mobile</td>\n",
       "      <td>0</td>\n",
       "      <td>INR</td>\n",
       "      <td>+9194374XXXXXX</td>\n",
       "      <td>Vacation payment</td>\n",
       "      <td>bhanumatiXXXXX@XXXXX.com</td>\n",
       "    </tr>\n",
       "    <tr>\n",
       "      <th>9</th>\n",
       "      <td>708224d5-192a-4d86-b411-8ec6d1bb274b</td>\n",
       "      <td>Meera Ganesh</td>\n",
       "      <td>Female</td>\n",
       "      <td>32</td>\n",
       "      <td>Chhattisgarh</td>\n",
       "      <td>Jagdalpur</td>\n",
       "      <td>Jagdalpur Branch</td>\n",
       "      <td>Business</td>\n",
       "      <td>9fad31ea-2770-4d80-a0ea-00972d5f02cc</td>\n",
       "      <td>02-01-2025</td>\n",
       "      <td>...</td>\n",
       "      <td>Entertainment</td>\n",
       "      <td>65801.35</td>\n",
       "      <td>Bank Branch</td>\n",
       "      <td>Jagdalpur, Chhattisgarh</td>\n",
       "      <td>Desktop</td>\n",
       "      <td>0</td>\n",
       "      <td>INR</td>\n",
       "      <td>+9194511XXXXXX</td>\n",
       "      <td>Electronics purchase</td>\n",
       "      <td>meeraXXXXX@XXXXXXX.com</td>\n",
       "    </tr>\n",
       "  </tbody>\n",
       "</table>\n",
       "<p>10 rows × 24 columns</p>\n",
       "</div>"
      ],
      "text/plain": [
       "                            Customer_ID        Customer_Name  Gender  Age  \\\n",
       "0  d5f6ec07-d69e-4f47-b9b4-7c58ff17c19e           Osha Tella    Male   60   \n",
       "1  7c14ad51-781a-4db9-b7bd-67439c175262      Hredhaan Khosla  Female   51   \n",
       "2  3a73a0e5-d4da-45aa-85f3-528413900a35       Ekani Nazareth    Male   20   \n",
       "3  7902f4ef-9050-4a79-857d-9c2ea3181940  Yamini Ramachandran  Female   57   \n",
       "4  3a4bba70-d9a9-4c5f-8b92-1735fd8c19e9         Kritika Rege  Female   43   \n",
       "5  6c870d65-76b0-431d-bdf3-9292998e8211          Ishanvi Dar    Male   54   \n",
       "6  5323737c-bbd2-423f-9c9b-e0433c8f75dc          Arya Shroff  Female   61   \n",
       "7  c0c3d474-f6c2-4c66-9b0e-f9ba75c6f310        Jackson Shere    Male   32   \n",
       "8  e9a82764-1253-4a46-ad34-80e3416fc801      Bhanumati Ravel    Male   52   \n",
       "9  708224d5-192a-4d86-b411-8ec6d1bb274b         Meera Ganesh  Female   32   \n",
       "\n",
       "                         State                City                Bank_Branch  \\\n",
       "0                       Kerala  Thiruvananthapuram  Thiruvananthapuram Branch   \n",
       "1                  Maharashtra              Nashik              Nashik Branch   \n",
       "2                        Bihar           Bhagalpur           Bhagalpur Branch   \n",
       "3                   Tamil Nadu             Chennai             Chennai Branch   \n",
       "4                       Punjab            Amritsar            Amritsar Branch   \n",
       "5                      Gujarat           Ahmedabad           Ahmedabad Branch   \n",
       "6                        Delhi           New Delhi           New Delhi Branch   \n",
       "7  Andaman and Nicobar Islands          Port Blair          Port Blair Branch   \n",
       "8               Madhya Pradesh              Bhopal              Bhopal Branch   \n",
       "9                 Chhattisgarh           Jagdalpur           Jagdalpur Branch   \n",
       "\n",
       "  Account_Type                        Transaction_ID Transaction_Date  ...  \\\n",
       "0      Savings  4fa3208f-9e23-42dc-b330-844829d0c12c       23-01-2025  ...   \n",
       "1     Business  c9de0c06-2c4c-40a9-97ed-3c7b8f97c79c       11-01-2025  ...   \n",
       "2      Savings  e41c55f9-c016-4ff3-872b-cae72467c75c       25-01-2025  ...   \n",
       "3     Business  7f7ee11b-ff2c-45a3-802a-49bc47c02ecb       19-01-2025  ...   \n",
       "4      Savings  f8e6ac6f-81a1-4985-bf12-f60967d852ef       30-01-2025  ...   \n",
       "5     Checking  af5f667c-d064-4083-bfb7-83396111a3da       25-01-2025  ...   \n",
       "6     Business  b1355810-d246-4aeb-9932-347f32646172       04-01-2025  ...   \n",
       "7     Business  c86a000c-d81f-40be-acdf-77fc072fd808       16-01-2025  ...   \n",
       "8     Business  323cc683-b0dc-40ee-a519-3b5dc96c7ed8       25-01-2025  ...   \n",
       "9     Business  9fad31ea-2770-4d80-a0ea-00972d5f02cc       02-01-2025  ...   \n",
       "\n",
       "  Merchant_Category  Account_Balance      Transaction_Device  \\\n",
       "0        Restaurant         74557.27         Voice Assistant   \n",
       "1        Restaurant         74622.66       POS Mobile Device   \n",
       "2         Groceries         66817.99                     ATM   \n",
       "3     Entertainment         58177.08          POS Mobile App   \n",
       "4     Entertainment         16108.56            Virtual Card   \n",
       "5     Entertainment         61258.85           Mobile Device   \n",
       "6            Health         36313.61  Payment Gateway Device   \n",
       "7          Clothing         16948.73       Debit/Credit Card   \n",
       "8          Clothing         18138.71                     ATM   \n",
       "9     Entertainment         65801.35             Bank Branch   \n",
       "\n",
       "                      Transaction_Location Device_Type  Is_Fraud  \\\n",
       "0               Thiruvananthapuram, Kerala         POS         0   \n",
       "1                      Nashik, Maharashtra     Desktop         0   \n",
       "2                         Bhagalpur, Bihar     Desktop         0   \n",
       "3                      Chennai, Tamil Nadu      Mobile         0   \n",
       "4                         Amritsar, Punjab      Mobile         0   \n",
       "5                       Ahmedabad, Gujarat         POS         0   \n",
       "6                         New Delhi, Delhi     Desktop         0   \n",
       "7  Port Blair, Andaman and Nicobar Islands         ATM         0   \n",
       "8                   Bhopal, Madhya Pradesh      Mobile         0   \n",
       "9                  Jagdalpur, Chhattisgarh     Desktop         0   \n",
       "\n",
       "  Transaction_Currency Customer_Contact Transaction_Description  \\\n",
       "0                  INR   +9198579XXXXXX     Bitcoin transaction   \n",
       "1                  INR   +9191074XXXXXX        Grocery delivery   \n",
       "2                  INR   +9197745XXXXXX  Mutual fund investment   \n",
       "3                  INR   +9195889XXXXXX           Food delivery   \n",
       "4                  INR   +9195316XXXXXX          Debt repayment   \n",
       "5                  INR   +9198318XXXXXX    Seminar registration   \n",
       "6                  INR   +9194785XXXXXX   Public transport pass   \n",
       "7                  INR   +9193423XXXXXX         Online shopping   \n",
       "8                  INR   +9194374XXXXXX        Vacation payment   \n",
       "9                  INR   +9194511XXXXXX    Electronics purchase   \n",
       "\n",
       "             Customer_Email  \n",
       "0       oshaXXXXX@XXXXX.com  \n",
       "1   hredhaanXXXX@XXXXXX.com  \n",
       "2       ekaniXXX@XXXXXX.com  \n",
       "3   yaminiXXXXX@XXXXXXX.com  \n",
       "4    kritikaXXXX@XXXXXX.com  \n",
       "5      ishanviXXX@XXXXX.com  \n",
       "6         aryaXXX@XXXXX.com  \n",
       "7    jacksonXXX@XXXXXXX.com  \n",
       "8  bhanumatiXXXXX@XXXXX.com  \n",
       "9    meeraXXXXX@XXXXXXX.com  \n",
       "\n",
       "[10 rows x 24 columns]"
      ]
     },
     "execution_count": 25,
     "metadata": {},
     "output_type": "execute_result"
    }
   ],
   "source": [
    "import numpy as np\n",
    "import pandas as pd\n",
    "import matplotlib.pyplot as plt\n",
    "import seaborn as sns\n",
    "from sklearn.ensemble import RandomForestClassifier\n",
    "from imblearn.over_sampling import SMOTENC\n",
    "from sklearn.model_selection import train_test_split, GridSearchCV\n",
    "from xgboost import XGBClassifier\n",
    "from sklearn.metrics import confusion_matrix, classification_report, f1_score\n",
    "\n",
    "\n",
    "df = pd.read_csv(\"Bank_Transaction_Fraud_Detection.csv\")\n",
    "df.head(10)"
   ]
  },
  {
   "cell_type": "markdown",
   "id": "240ad08e",
   "metadata": {},
   "source": [
    "__Total Number of Rows & Columns__"
   ]
  },
  {
   "cell_type": "code",
   "execution_count": 29,
   "id": "c79a99ff",
   "metadata": {},
   "outputs": [
    {
     "data": {
      "text/plain": [
       "(200000, 24)"
      ]
     },
     "execution_count": 29,
     "metadata": {},
     "output_type": "execute_result"
    }
   ],
   "source": [
    "df.shape"
   ]
  },
  {
   "cell_type": "markdown",
   "id": "dcf9860e",
   "metadata": {},
   "source": [
    "__Check all the Data Types in a Table__"
   ]
  },
  {
   "cell_type": "code",
   "execution_count": 30,
   "id": "6de4d6be",
   "metadata": {},
   "outputs": [
    {
     "name": "stdout",
     "output_type": "stream",
     "text": [
      "<class 'pandas.core.frame.DataFrame'>\n",
      "RangeIndex: 200000 entries, 0 to 199999\n",
      "Data columns (total 24 columns):\n",
      " #   Column                   Non-Null Count   Dtype  \n",
      "---  ------                   --------------   -----  \n",
      " 0   Customer_ID              200000 non-null  object \n",
      " 1   Customer_Name            200000 non-null  object \n",
      " 2   Gender                   200000 non-null  object \n",
      " 3   Age                      200000 non-null  int64  \n",
      " 4   State                    200000 non-null  object \n",
      " 5   City                     200000 non-null  object \n",
      " 6   Bank_Branch              200000 non-null  object \n",
      " 7   Account_Type             200000 non-null  object \n",
      " 8   Transaction_ID           200000 non-null  object \n",
      " 9   Transaction_Date         200000 non-null  object \n",
      " 10  Transaction_Time         200000 non-null  object \n",
      " 11  Transaction_Amount       200000 non-null  float64\n",
      " 12  Merchant_ID              200000 non-null  object \n",
      " 13  Transaction_Type         200000 non-null  object \n",
      " 14  Merchant_Category        200000 non-null  object \n",
      " 15  Account_Balance          200000 non-null  float64\n",
      " 16  Transaction_Device       200000 non-null  object \n",
      " 17  Transaction_Location     200000 non-null  object \n",
      " 18  Device_Type              200000 non-null  object \n",
      " 19  Is_Fraud                 200000 non-null  int64  \n",
      " 20  Transaction_Currency     200000 non-null  object \n",
      " 21  Customer_Contact         200000 non-null  object \n",
      " 22  Transaction_Description  200000 non-null  object \n",
      " 23  Customer_Email           200000 non-null  object \n",
      "dtypes: float64(2), int64(2), object(20)\n",
      "memory usage: 36.6+ MB\n"
     ]
    }
   ],
   "source": [
    "df.info()"
   ]
  },
  {
   "cell_type": "markdown",
   "id": "a0da81ef",
   "metadata": {},
   "source": [
    "__Check Duplicate__"
   ]
  },
  {
   "cell_type": "code",
   "execution_count": 31,
   "id": "f0c5a051",
   "metadata": {},
   "outputs": [
    {
     "data": {
      "text/plain": [
       "0         False\n",
       "1         False\n",
       "2         False\n",
       "3         False\n",
       "4         False\n",
       "          ...  \n",
       "199995    False\n",
       "199996    False\n",
       "199997    False\n",
       "199998    False\n",
       "199999    False\n",
       "Length: 200000, dtype: bool"
      ]
     },
     "execution_count": 31,
     "metadata": {},
     "output_type": "execute_result"
    }
   ],
   "source": [
    "df.duplicated()"
   ]
  },
  {
   "cell_type": "markdown",
   "id": "89f7e75a",
   "metadata": {},
   "source": [
    "__Check Missing / Null Values__"
   ]
  },
  {
   "cell_type": "code",
   "execution_count": 32,
   "id": "ef606bff",
   "metadata": {},
   "outputs": [
    {
     "data": {
      "text/plain": [
       "Customer_ID                0\n",
       "Customer_Name              0\n",
       "Gender                     0\n",
       "Age                        0\n",
       "State                      0\n",
       "City                       0\n",
       "Bank_Branch                0\n",
       "Account_Type               0\n",
       "Transaction_ID             0\n",
       "Transaction_Date           0\n",
       "Transaction_Time           0\n",
       "Transaction_Amount         0\n",
       "Merchant_ID                0\n",
       "Transaction_Type           0\n",
       "Merchant_Category          0\n",
       "Account_Balance            0\n",
       "Transaction_Device         0\n",
       "Transaction_Location       0\n",
       "Device_Type                0\n",
       "Is_Fraud                   0\n",
       "Transaction_Currency       0\n",
       "Customer_Contact           0\n",
       "Transaction_Description    0\n",
       "Customer_Email             0\n",
       "dtype: int64"
      ]
     },
     "execution_count": 32,
     "metadata": {},
     "output_type": "execute_result"
    }
   ],
   "source": [
    "pd.isnull(df).sum()"
   ]
  },
  {
   "cell_type": "markdown",
   "id": "a335465c",
   "metadata": {},
   "source": [
    "# Visualization Of Fraud Transactions"
   ]
  },
  {
   "cell_type": "markdown",
   "id": "9433b265",
   "metadata": {},
   "source": [
    "__Graph of Total Number of Frauds vs Safe Payments__\n"
   ]
  },
  {
   "cell_type": "code",
   "execution_count": 33,
   "id": "f201da79",
   "metadata": {},
   "outputs": [
    {
     "data": {
      "image/png": "[encoded data removed]",
      "text/plain": [
       "<Figure size 600x600 with 1 Axes>"
      ]
     },
     "metadata": {},
     "output_type": "display_data"
    }
   ],
   "source": [
    "plt.figure(figsize=(6,6))\n",
    "ax= sns.countplot(data=df, x=\"Is_Fraud\", hue = \"Is_Fraud\", palette=\"Set2\",legend=True)\n",
    "for bar in ax.containers:\n",
    "    ax.bar_label(bar)\n",
    "plt.title(\"Fraud vs Non-Fraud Transactions\")\n",
    "plt.xlabel(\"Is Fraud (0=No, 1=Yes)\")\n",
    "plt.ylabel(\"Total Transactions\")\n",
    "plt.show()"
   ]
  },
  {
   "cell_type": "markdown",
   "id": "14374464",
   "metadata": {},
   "source": [
    "__Transaction Type VS Fraud Count__"
   ]
  },
  {
   "cell_type": "code",
   "execution_count": 34,
   "id": "11ecc543",
   "metadata": {},
   "outputs": [
    {
     "data": {
      "image/png": "[encoded data removed]",
      "text/plain": [
       "<Figure size 1200x500 with 1 Axes>"
      ]
     },
     "metadata": {},
     "output_type": "display_data"
    }
   ],
   "source": [
    "plt.figure(figsize=(12,5))\n",
    "ax=sns.countplot(data=df, hue=\"Transaction_Type\", x = \"Is_Fraud\", palette=\"viridis\",legend=True)\n",
    "for bar in ax.containers:\n",
    "    ax.bar_label(bar)\n",
    "ax.legend(title = \"Transactions Type\", labels = [\"Bill Payment\", \"Credit\", \"Debit\", \"Transfer\",\"Withdrawl\"])\n",
    "plt.title(\"Fraud vs Non-Fraud Transactions\")\n",
    "plt.xlabel(\"Is Fraud (0=No, 1=Yes)\")\n",
    "plt.ylabel(\"Number of Transactions\")\n",
    "plt.show()"
   ]
  },
  {
   "cell_type": "markdown",
   "id": "122804c0",
   "metadata": {},
   "source": [
    "__Categorical Columns__"
   ]
  },
  {
   "cell_type": "code",
   "execution_count": 35,
   "id": "9361f28e",
   "metadata": {},
   "outputs": [],
   "source": [
    "cat_cols = ['Gender', 'State', 'City', 'Bank_Branch', 'Account_Type', 'Merchant_ID',\n",
    "            'Transaction_Type', 'Merchant_Category', 'Transaction_Device',\n",
    "            'Transaction_Location', 'Device_Type', 'Transaction_Currency']"
   ]
  },
  {
   "cell_type": "markdown",
   "id": "d2fca42a",
   "metadata": {},
   "source": [
    "__Unwanted Columns Removal__"
   ]
  },
  {
   "cell_type": "code",
   "execution_count": 36,
   "id": "c88b4e63",
   "metadata": {},
   "outputs": [],
   "source": [
    "drop_cols = ['Customer_ID', 'Customer_Name', 'Customer_Contact', 'Customer_Email', 'Transaction_Description',\n",
    "             'Transaction_ID', 'Transaction_Date', 'Transaction_Time']\n",
    "df = df.drop(columns=drop_cols, errors='ignore')"
   ]
  },
  {
   "cell_type": "markdown",
   "id": "53a4612f",
   "metadata": {},
   "source": [
    "__Label Encoding Categorical Features__"
   ]
  },
  {
   "cell_type": "code",
   "execution_count": 37,
   "id": "f97df42d",
   "metadata": {},
   "outputs": [],
   "source": [
    "from sklearn.preprocessing import LabelEncoder\n",
    "\n",
    "for col in cat_cols:\n",
    "    le = LabelEncoder()\n",
    "    df[col] = le.fit_transform(df[col].astype(str))"
   ]
  },
  {
   "cell_type": "markdown",
   "id": "f10b6f7c",
   "metadata": {},
   "source": [
    "__Feature & Target Variable Split__"
   ]
  },
  {
   "cell_type": "code",
   "execution_count": 38,
   "id": "e1687b84",
   "metadata": {},
   "outputs": [],
   "source": [
    "X = df.drop('Is_Fraud', axis=1)\n",
    "y = df['Is_Fraud']"
   ]
  },
  {
   "cell_type": "markdown",
   "id": "6e9b62f4",
   "metadata": {},
   "source": [
    "__Train-Test Split__"
   ]
  },
  {
   "cell_type": "code",
   "execution_count": 39,
   "id": "4fbd02f7",
   "metadata": {},
   "outputs": [],
   "source": [
    "X_train, X_test, y_train, y_test = train_test_split(X, y, stratify=y, test_size=0.2, random_state=42)"
   ]
  },
  {
   "cell_type": "markdown",
   "id": "6586de4c",
   "metadata": {},
   "source": [
    "__Feature Selection from RandomForestClassifier__"
   ]
  },
  {
   "cell_type": "code",
   "execution_count": 40,
   "id": "9e94a7c3",
   "metadata": {},
   "outputs": [],
   "source": [
    "rf = RandomForestClassifier(random_state=42)\n",
    "rf.fit(X_train, y_train)\n",
    "importances = rf.feature_importances_\n",
    "indices = np.argsort(importances)[::-1]\n",
    "selected_features = X_train.columns[indices[:15]]\n",
    "\n",
    "X_train_fs = X_train[selected_features]\n",
    "X_test_fs = X_test[selected_features]"
   ]
  },
  {
   "cell_type": "markdown",
   "id": "c023e535",
   "metadata": {},
   "source": [
    "__Categorical Feature Indices for SMOTENC__\n"
   ]
  },
  {
   "cell_type": "code",
   "execution_count": 42,
   "id": "0f43dced",
   "metadata": {},
   "outputs": [],
   "source": [
    "cat_feat_indices = [X_train_fs.columns.get_loc(col) for col in cat_cols if col in X_train_fs]"
   ]
  },
  {
   "cell_type": "markdown",
   "id": "6849a9a5",
   "metadata": {},
   "source": [
    "__SMOTENC Oversampling for Class Imbalance__"
   ]
  },
  {
   "cell_type": "code",
   "execution_count": 43,
   "id": "2b0386dc",
   "metadata": {},
   "outputs": [],
   "source": [
    "max_rows = 7000\n",
    "\n",
    "if X_train_fs.shape[0] > max_rows:\n",
    "    X_train_small = X_train_fs.sample(n=max_rows, random_state=42)\n",
    "    y_train_small = y_train.loc[X_train_small.index].reset_index(drop=True)\n",
    "    X_train_small = X_train_small.reset_index(drop=True)\n",
    "else:\n",
    "    X_train_small = X_train_fs\n",
    "    y_train_small = y_train.reset_index(drop=True)\n",
    "\n",
    "smote_nc = SMOTENC(categorical_features=cat_feat_indices, sampling_strategy=0.4, random_state=42)\n",
    "X_train_res, y_train_res = smote_nc.fit_resample(X_train_small, y_train_small)\n"
   ]
  },
  {
   "cell_type": "markdown",
   "id": "247db290",
   "metadata": {},
   "source": [
    "__XGBoost Model Training with Hyperparameter Tuning__"
   ]
  },
  {
   "cell_type": "code",
   "execution_count": 44,
   "id": "6b75f1f8",
   "metadata": {},
   "outputs": [],
   "source": [
    "params = {\n",
    "    'max_depth': [4, 6, 8],\n",
    "    'learning_rate': [0.1, 0.01],\n",
    "    'n_estimators': [100, 200],\n",
    "    'scale_pos_weight': [1, 5, 10, (y_train == 0).sum()/(y_train == 1).sum()]\n",
    "}"
   ]
  },
  {
   "cell_type": "markdown",
   "id": "16984b83",
   "metadata": {},
   "source": [
    "__Model Prediction and Threshold Evaluation__"
   ]
  },
  {
   "cell_type": "code",
   "execution_count": 46,
   "id": "de6d9ae1",
   "metadata": {},
   "outputs": [
    {
     "name": "stdout",
     "output_type": "stream",
     "text": [
      "Fitting 3 folds for each of 48 candidates, totalling 144 fits\n"
     ]
    }
   ],
   "source": [
    "xgb = XGBClassifier(eval_metric='logloss', random_state=42)\n",
    "grid = GridSearchCV(xgb, param_grid=params, scoring='f1', cv=3, verbose=1)\n",
    "grid.fit(X_train_res, y_train_res)\n",
    "\n",
    "fraud_model = grid.best_estimator_"
   ]
  },
  {
   "cell_type": "markdown",
   "id": "e98a24e9",
   "metadata": {},
   "source": [
    "__Predicting Fraud Class Probabilities Using Model's predict_proba()__"
   ]
  },
  {
   "cell_type": "code",
   "execution_count": 47,
   "id": "b7c9bce5",
   "metadata": {},
   "outputs": [],
   "source": [
    "y_probs = fraud_model.predict_proba(X_test_fs)[:, 1]"
   ]
  },
  {
   "cell_type": "markdown",
   "id": "698b6ad5",
   "metadata": {},
   "source": [
    "__Model Prediction and Threshold Evaluation__"
   ]
  },
  {
   "cell_type": "code",
   "execution_count": 48,
   "id": "efd34f6a",
   "metadata": {},
   "outputs": [
    {
     "name": "stdout",
     "output_type": "stream",
     "text": [
      "Threshold: 0.20 | F1 Score: 0.082 | Accuracy: 0.799\n",
      "Threshold: 0.25 | F1 Score: 0.075 | Accuracy: 0.836\n",
      "Threshold: 0.30 | F1 Score: 0.070 | Accuracy: 0.863\n",
      "Threshold: 0.35 | F1 Score: 0.065 | Accuracy: 0.882\n",
      "Threshold: 0.40 | F1 Score: 0.054 | Accuracy: 0.898\n",
      "Threshold: 0.45 | F1 Score: 0.049 | Accuracy: 0.909\n",
      "Threshold: 0.50 | F1 Score: 0.043 | Accuracy: 0.918\n",
      "Threshold: 0.55 | F1 Score: 0.039 | Accuracy: 0.925\n",
      "Threshold: 0.60 | F1 Score: 0.029 | Accuracy: 0.931\n",
      "Threshold: 0.65 | F1 Score: 0.019 | Accuracy: 0.936\n",
      "Threshold: 0.70 | F1 Score: 0.017 | Accuracy: 0.940\n",
      "Threshold: 0.75 | F1 Score: 0.014 | Accuracy: 0.944\n",
      "Threshold: 0.80 | F1 Score: 0.009 | Accuracy: 0.946\n",
      "Threshold: 0.85 | F1 Score: 0.006 | Accuracy: 0.948\n",
      "Selected threshold: 0.20\n"
     ]
    }
   ],
   "source": [
    "from sklearn.metrics import accuracy_score\n",
    "\n",
    "best_f1 = 0\n",
    "best_threshold = 0.5\n",
    "\n",
    "for t in np.arange(0.2, 0.9, 0.05):\n",
    "    y_pred_temp = (y_probs >= t).astype(int)\n",
    "    f1 = f1_score(y_test, y_pred_temp)\n",
    "    acc = accuracy_score(y_test, y_pred_temp)\n",
    "    print(f\"Threshold: {t:.2f} | F1 Score: {f1:.3f} | Accuracy: {acc:.3f}\")\n",
    "    if f1 > best_f1 and acc > 0.75:  # condition to keep accuracy high too\n",
    "        best_f1 = f1\n",
    "        best_threshold = t\n",
    "\n",
    "print(f\"Selected threshold: {best_threshold:.2f}\")"
   ]
  },
  {
   "cell_type": "markdown",
   "id": "a21b07b7",
   "metadata": {},
   "source": [
    "__Model Evaluation Metrics__"
   ]
  },
  {
   "cell_type": "code",
   "execution_count": 49,
   "id": "104e7f4e",
   "metadata": {},
   "outputs": [
    {
     "name": "stdout",
     "output_type": "stream",
     "text": [
      "Confusion Matrix:\n",
      "[[31588  6394]\n",
      " [ 1659   359]]\n",
      "\n",
      "Classification Report:\n",
      "              precision    recall  f1-score   support\n",
      "\n",
      "           0       0.95      0.83      0.89     37982\n",
      "           1       0.05      0.18      0.08      2018\n",
      "\n",
      "    accuracy                           0.80     40000\n",
      "   macro avg       0.50      0.50      0.48     40000\n",
      "weighted avg       0.90      0.80      0.85     40000\n",
      "\n"
     ]
    }
   ],
   "source": [
    "y_pred = (y_probs >= best_threshold).astype(int)\n",
    "\n",
    "# Print evaluation metrics\n",
    "print(\"Confusion Matrix:\")\n",
    "print(confusion_matrix(y_test, y_pred))\n",
    "print(\"\\nClassification Report:\")\n",
    "print(classification_report(y_test, y_pred))"
   ]
  },
  {
   "cell_type": "markdown",
   "id": "af782f04",
   "metadata": {},
   "source": [
    "__Model Save and Load__"
   ]
  },
  {
   "cell_type": "code",
   "execution_count": 53,
   "id": "77ea26c9",
   "metadata": {},
   "outputs": [],
   "source": [
    "import joblib\n",
    "\n",
    "# Model save karna\n",
    "joblib.dump(fraud_model, 'fraud_model.joblib')\n",
    "\n",
    "# Model load karna\n",
    "loaded_model = joblib.load('fraud_model.joblib')\n"
   ]
  }
 ],
 "metadata": {
  "kernelspec": {
   "display_name": "Python 3",
   "language": "python",
   "name": "python3"
  },
  "language_info": {
   "codemirror_mode": {
    "name": "ipython",
    "version": 3
   },
   "file_extension": ".py",
   "mimetype": "text/x-python",
   "name": "python",
   "nbconvert_exporter": "python",
   "pygments_lexer": "ipython3",
   "version": "3.13.5"
  }
 },
 "nbformat": 4,
 "nbformat_minor": 5
}
